{
 "cells": [
  {
   "cell_type": "code",
   "execution_count": 1,
   "id": "3465ec69-9780-4745-84f7-4c7d0d98390d",
   "metadata": {},
   "outputs": [],
   "source": [
    "import seaborn as sns\n",
    "import pandas as pd\n",
    "\n",
    "iris = sns.load_dataset(\"iris\")\n",
    "result = iris.loc[:,['sepal_length','species']]\n",
    "# 미션\n",
    "# 파일명 iris_mission.csv\n",
    "# lab01/dataset/iris-mission.csv\n",
    "\n",
    "result.to_csv(\"../lab01/dataset/iris_mission.csv\", index = False)"
   ]
  },
  {
   "cell_type": "code",
   "execution_count": null,
   "id": "89179497-9b0b-4efa-8e80-9d8305aa328b",
   "metadata": {},
   "outputs": [],
   "source": []
  }
 ],
 "metadata": {
  "kernelspec": {
   "display_name": "Python 3 (ipykernel)",
   "language": "python",
   "name": "python3"
  },
  "language_info": {
   "codemirror_mode": {
    "name": "ipython",
    "version": 3
   },
   "file_extension": ".py",
   "mimetype": "text/x-python",
   "name": "python",
   "nbconvert_exporter": "python",
   "pygments_lexer": "ipython3",
   "version": "3.13.2"
  }
 },
 "nbformat": 4,
 "nbformat_minor": 5
}
