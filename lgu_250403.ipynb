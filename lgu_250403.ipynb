{
 "cells": [
  {
   "cell_type": "code",
   "execution_count": 1,
   "id": "82b1367b-b988-470f-addc-44ab79092bfb",
   "metadata": {},
   "outputs": [
    {
     "data": {
      "text/html": [
       "<div>\n",
       "<style scoped>\n",
       "    .dataframe tbody tr th:only-of-type {\n",
       "        vertical-align: middle;\n",
       "    }\n",
       "\n",
       "    .dataframe tbody tr th {\n",
       "        vertical-align: top;\n",
       "    }\n",
       "\n",
       "    .dataframe thead th {\n",
       "        text-align: right;\n",
       "    }\n",
       "</style>\n",
       "<table border=\"1\" class=\"dataframe\">\n",
       "  <thead>\n",
       "    <tr style=\"text-align: right;\">\n",
       "      <th></th>\n",
       "      <th>sepal_length</th>\n",
       "      <th>species</th>\n",
       "    </tr>\n",
       "  </thead>\n",
       "  <tbody>\n",
       "    <tr>\n",
       "      <th>0</th>\n",
       "      <td>5.1</td>\n",
       "      <td>setosa</td>\n",
       "    </tr>\n",
       "  </tbody>\n",
       "</table>\n",
       "</div>"
      ],
      "text/plain": [
       "   sepal_length species\n",
       "0           5.1  setosa"
      ]
     },
     "execution_count": 1,
     "metadata": {},
     "output_type": "execute_result"
    }
   ],
   "source": [
    "import seaborn as sns\n",
    "import pandas as pd\n",
    "\n",
    "iris = sns.load_dataset(\"iris\")\n",
    "result = iris.loc[:,['sepal_length','species']]\n",
    "result.head(1)"
   ]
  },
  {
   "cell_type": "code",
   "execution_count": null,
   "id": "3b486b11-38c6-4b5c-96c2-b446b6e1afd9",
   "metadata": {},
   "outputs": [],
   "source": []
  },
  {
   "cell_type": "code",
   "execution_count": 2,
   "id": "2f0f9b9f-6625-4a58-9b49-e678c6647b91",
   "metadata": {},
   "outputs": [],
   "source": [
    "result.to_excel(\"dataset/iris_excel_file.xlsx\",\n",
    "                sheet_name='Sheet_name_1',\n",
    "                index = False) "
   ]
  },
  {
   "cell_type": "markdown",
   "id": "ea6bdb88-bbd1-4bfd-9598-95f60a26461a",
   "metadata": {},
   "source": [
    "# Group By 연산\n",
    "- 집계함수 같이 활용\n",
    "- 분석의 목적 : 그룹별로 비교하고 싶을 때 사용"
   ]
  },
  {
   "cell_type": "code",
   "execution_count": 1,
   "id": "2eb3f687-8792-4eb2-bc47-f0fddb63f541",
   "metadata": {},
   "outputs": [
    {
     "data": {
      "text/html": [
       "<div>\n",
       "<style scoped>\n",
       "    .dataframe tbody tr th:only-of-type {\n",
       "        vertical-align: middle;\n",
       "    }\n",
       "\n",
       "    .dataframe tbody tr th {\n",
       "        vertical-align: top;\n",
       "    }\n",
       "\n",
       "    .dataframe thead th {\n",
       "        text-align: right;\n",
       "    }\n",
       "</style>\n",
       "<table border=\"1\" class=\"dataframe\">\n",
       "  <thead>\n",
       "    <tr style=\"text-align: right;\">\n",
       "      <th></th>\n",
       "      <th>total_bill</th>\n",
       "      <th>tip</th>\n",
       "      <th>sex</th>\n",
       "      <th>smoker</th>\n",
       "      <th>day</th>\n",
       "      <th>time</th>\n",
       "      <th>size</th>\n",
       "    </tr>\n",
       "  </thead>\n",
       "  <tbody>\n",
       "    <tr>\n",
       "      <th>0</th>\n",
       "      <td>16.99</td>\n",
       "      <td>1.01</td>\n",
       "      <td>Female</td>\n",
       "      <td>No</td>\n",
       "      <td>Sun</td>\n",
       "      <td>Dinner</td>\n",
       "      <td>2</td>\n",
       "    </tr>\n",
       "  </tbody>\n",
       "</table>\n",
       "</div>"
      ],
      "text/plain": [
       "   total_bill   tip     sex smoker  day    time  size\n",
       "0       16.99  1.01  Female     No  Sun  Dinner     2"
      ]
     },
     "execution_count": 1,
     "metadata": {},
     "output_type": "execute_result"
    }
   ],
   "source": [
    "import seaborn as sns\n",
    "tips = sns.load_dataset(\"tips\")\n",
    "tips.head(1)"
   ]
  },
  {
   "cell_type": "markdown",
   "id": "e5c4607f-d8c0-4dc6-bcd2-b92d532c7d01",
   "metadata": {},
   "source": [
    "## 성별로 tip 평균 구하기"
   ]
  },
  {
   "cell_type": "code",
   "execution_count": 3,
   "id": "97a24bb8-f0bc-4dd3-9ac7-81c7cc206a9a",
   "metadata": {},
   "outputs": [
    {
     "data": {
      "text/plain": [
       "sex\n",
       "Male      3.089618\n",
       "Female    2.833448\n",
       "Name: tip, dtype: float64"
      ]
     },
     "execution_count": 3,
     "metadata": {},
     "output_type": "execute_result"
    }
   ],
   "source": [
    "tips.groupby('sex', observed = True )['tip'].mean()\n",
    "\n",
    "#통계적으로 유의한가 : 기초 통계 영역으로 넘어감"
   ]
  },
  {
   "cell_type": "code",
   "execution_count": 5,
   "id": "ff24488b-fde4-4cd7-92ec-36316b94435d",
   "metadata": {},
   "outputs": [
    {
     "data": {
      "text/plain": [
       "day\n",
       "Thur    1096.33\n",
       "Fri      325.88\n",
       "Sat     1778.40\n",
       "Sun     1627.16\n",
       "Name: total_bill, dtype: float64"
      ]
     },
     "execution_count": 5,
     "metadata": {},
     "output_type": "execute_result"
    }
   ],
   "source": [
    "# 요일별 총 결제 금액 구하기\n",
    "tips.groupby('day',observed = True)['total_bill'].sum()"
   ]
  },
  {
   "cell_type": "code",
   "execution_count": 7,
   "id": "ce83ceed-ca14-494c-add1-eb5267bb8bef",
   "metadata": {},
   "outputs": [
    {
     "data": {
      "text/plain": [
       "day   sex   \n",
       "Thur  Male       561.44\n",
       "      Female     534.89\n",
       "Fri   Male       198.57\n",
       "      Female     127.31\n",
       "Sat   Male      1227.35\n",
       "      Female     551.05\n",
       "Sun   Male      1269.46\n",
       "      Female     357.70\n",
       "Name: total_bill, dtype: float64"
      ]
     },
     "execution_count": 7,
     "metadata": {},
     "output_type": "execute_result"
    }
   ],
   "source": [
    "# 요일별 성별로 팁 평균\n",
    "\n",
    "tips.groupby(['day','sex'],observed = True)['total_bill'].sum()"
   ]
  },
  {
   "cell_type": "markdown",
   "id": "47d24cbc-b406-495d-b89e-7c3e0e933097",
   "metadata": {},
   "source": [
    "# 식사 시간별 인원 수 평균\n",
    "- time,size"
   ]
  },
  {
   "cell_type": "code",
   "execution_count": 8,
   "id": "7501d38e-3166-4675-89dc-dc2ea6f7c31a",
   "metadata": {},
   "outputs": [
    {
     "data": {
      "text/plain": [
       "time\n",
       "Lunch     2.411765\n",
       "Dinner    2.630682\n",
       "Name: size, dtype: float64"
      ]
     },
     "execution_count": 8,
     "metadata": {},
     "output_type": "execute_result"
    }
   ],
   "source": [
    "tips.groupby('time',observed = True)['size'].mean()"
   ]
  },
  {
   "cell_type": "markdown",
   "id": "ef911cb9-9341-49d1-a08e-d3572840a162",
   "metadata": {},
   "source": [
    "# 두가지 범주 출력 변환"
   ]
  },
  {
   "cell_type": "code",
   "execution_count": 11,
   "id": "0c1a1f87-36fd-456c-81a9-92ffd1ec4b91",
   "metadata": {},
   "outputs": [
    {
     "data": {
      "text/html": [
       "<div>\n",
       "<style scoped>\n",
       "    .dataframe tbody tr th:only-of-type {\n",
       "        vertical-align: middle;\n",
       "    }\n",
       "\n",
       "    .dataframe tbody tr th {\n",
       "        vertical-align: top;\n",
       "    }\n",
       "\n",
       "    .dataframe thead th {\n",
       "        text-align: right;\n",
       "    }\n",
       "</style>\n",
       "<table border=\"1\" class=\"dataframe\">\n",
       "  <thead>\n",
       "    <tr style=\"text-align: right;\">\n",
       "      <th>sex</th>\n",
       "      <th>Male</th>\n",
       "      <th>Female</th>\n",
       "    </tr>\n",
       "    <tr>\n",
       "      <th>day</th>\n",
       "      <th></th>\n",
       "      <th></th>\n",
       "    </tr>\n",
       "  </thead>\n",
       "  <tbody>\n",
       "    <tr>\n",
       "      <th>Thur</th>\n",
       "      <td>2.980333</td>\n",
       "      <td>2.575625</td>\n",
       "    </tr>\n",
       "    <tr>\n",
       "      <th>Fri</th>\n",
       "      <td>2.693000</td>\n",
       "      <td>2.781111</td>\n",
       "    </tr>\n",
       "    <tr>\n",
       "      <th>Sat</th>\n",
       "      <td>3.083898</td>\n",
       "      <td>2.801786</td>\n",
       "    </tr>\n",
       "    <tr>\n",
       "      <th>Sun</th>\n",
       "      <td>3.220345</td>\n",
       "      <td>3.367222</td>\n",
       "    </tr>\n",
       "  </tbody>\n",
       "</table>\n",
       "</div>"
      ],
      "text/plain": [
       "sex       Male    Female\n",
       "day                     \n",
       "Thur  2.980333  2.575625\n",
       "Fri   2.693000  2.781111\n",
       "Sat   3.083898  2.801786\n",
       "Sun   3.220345  3.367222"
      ]
     },
     "execution_count": 11,
     "metadata": {},
     "output_type": "execute_result"
    }
   ],
   "source": [
    "result = tips.groupby(['day','sex'], observed = True)['tip'].mean()\n",
    "result.unstack() # 히트맵 시각화로 바로 적용가능"
   ]
  },
  {
   "cell_type": "markdown",
   "id": "dd76cbe4-b28d-438d-aaf0-58d4d3ef5f37",
   "metadata": {},
   "source": [
    "# 집계함수 2개 사용하기"
   ]
  },
  {
   "cell_type": "code",
   "execution_count": 17,
   "id": "4991a996-5526-40c1-9343-f1648011e44e",
   "metadata": {},
   "outputs": [
    {
     "data": {
      "text/html": [
       "<div>\n",
       "<style scoped>\n",
       "    .dataframe tbody tr th:only-of-type {\n",
       "        vertical-align: middle;\n",
       "    }\n",
       "\n",
       "    .dataframe tbody tr th {\n",
       "        vertical-align: top;\n",
       "    }\n",
       "\n",
       "    .dataframe thead th {\n",
       "        text-align: right;\n",
       "    }\n",
       "</style>\n",
       "<table border=\"1\" class=\"dataframe\">\n",
       "  <thead>\n",
       "    <tr style=\"text-align: right;\">\n",
       "      <th></th>\n",
       "      <th>day</th>\n",
       "      <th>sex</th>\n",
       "      <th>tip_sum</th>\n",
       "      <th>tip_mean</th>\n",
       "      <th>total_bill_sum</th>\n",
       "      <th>total_bill_mean</th>\n",
       "    </tr>\n",
       "  </thead>\n",
       "  <tbody>\n",
       "    <tr>\n",
       "      <th>0</th>\n",
       "      <td>Thur</td>\n",
       "      <td>Male</td>\n",
       "      <td>89.41</td>\n",
       "      <td>2.980333</td>\n",
       "      <td>561.44</td>\n",
       "      <td>18.714667</td>\n",
       "    </tr>\n",
       "    <tr>\n",
       "      <th>1</th>\n",
       "      <td>Thur</td>\n",
       "      <td>Female</td>\n",
       "      <td>82.42</td>\n",
       "      <td>2.575625</td>\n",
       "      <td>534.89</td>\n",
       "      <td>16.715312</td>\n",
       "    </tr>\n",
       "    <tr>\n",
       "      <th>2</th>\n",
       "      <td>Fri</td>\n",
       "      <td>Male</td>\n",
       "      <td>26.93</td>\n",
       "      <td>2.693000</td>\n",
       "      <td>198.57</td>\n",
       "      <td>19.857000</td>\n",
       "    </tr>\n",
       "    <tr>\n",
       "      <th>3</th>\n",
       "      <td>Fri</td>\n",
       "      <td>Female</td>\n",
       "      <td>25.03</td>\n",
       "      <td>2.781111</td>\n",
       "      <td>127.31</td>\n",
       "      <td>14.145556</td>\n",
       "    </tr>\n",
       "    <tr>\n",
       "      <th>4</th>\n",
       "      <td>Sat</td>\n",
       "      <td>Male</td>\n",
       "      <td>181.95</td>\n",
       "      <td>3.083898</td>\n",
       "      <td>1227.35</td>\n",
       "      <td>20.802542</td>\n",
       "    </tr>\n",
       "    <tr>\n",
       "      <th>5</th>\n",
       "      <td>Sat</td>\n",
       "      <td>Female</td>\n",
       "      <td>78.45</td>\n",
       "      <td>2.801786</td>\n",
       "      <td>551.05</td>\n",
       "      <td>19.680357</td>\n",
       "    </tr>\n",
       "    <tr>\n",
       "      <th>6</th>\n",
       "      <td>Sun</td>\n",
       "      <td>Male</td>\n",
       "      <td>186.78</td>\n",
       "      <td>3.220345</td>\n",
       "      <td>1269.46</td>\n",
       "      <td>21.887241</td>\n",
       "    </tr>\n",
       "    <tr>\n",
       "      <th>7</th>\n",
       "      <td>Sun</td>\n",
       "      <td>Female</td>\n",
       "      <td>60.61</td>\n",
       "      <td>3.367222</td>\n",
       "      <td>357.70</td>\n",
       "      <td>19.872222</td>\n",
       "    </tr>\n",
       "  </tbody>\n",
       "</table>\n",
       "</div>"
      ],
      "text/plain": [
       "    day     sex  tip_sum  tip_mean  total_bill_sum  total_bill_mean\n",
       "0  Thur    Male    89.41  2.980333          561.44        18.714667\n",
       "1  Thur  Female    82.42  2.575625          534.89        16.715312\n",
       "2   Fri    Male    26.93  2.693000          198.57        19.857000\n",
       "3   Fri  Female    25.03  2.781111          127.31        14.145556\n",
       "4   Sat    Male   181.95  3.083898         1227.35        20.802542\n",
       "5   Sat  Female    78.45  2.801786          551.05        19.680357\n",
       "6   Sun    Male   186.78  3.220345         1269.46        21.887241\n",
       "7   Sun  Female    60.61  3.367222          357.70        19.872222"
      ]
     },
     "execution_count": 17,
     "metadata": {},
     "output_type": "execute_result"
    }
   ],
   "source": [
    "result2 = tips.groupby(['day','sex'], observed = True)[['tip','total_bill']].agg(['sum','mean'])\n",
    "result2.columns = ['_'.join(col) for col in result2.columns]\n",
    "result2.reset_index()"
   ]
  },
  {
   "cell_type": "code",
   "execution_count": null,
   "id": "73a3986b-6b30-47d7-9b0d-0f86ef87cb31",
   "metadata": {},
   "outputs": [],
   "source": []
  }
 ],
 "metadata": {
  "kernelspec": {
   "display_name": "Python 3 (ipykernel)",
   "language": "python",
   "name": "python3"
  },
  "language_info": {
   "codemirror_mode": {
    "name": "ipython",
    "version": 3
   },
   "file_extension": ".py",
   "mimetype": "text/x-python",
   "name": "python",
   "nbconvert_exporter": "python",
   "pygments_lexer": "ipython3",
   "version": "3.13.2"
  }
 },
 "nbformat": 4,
 "nbformat_minor": 5
}
